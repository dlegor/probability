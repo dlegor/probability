{
 "cells": [
  {
   "cell_type": "markdown",
   "metadata": {
    "colab_type": "text",
    "id": "XXDeo-aGOAXF"
   },
   "source": [
    "##### Copyright 2020 The TensorFlow Authors.\n",
    "\n",
    "Licensed under the Apache License, Version 2.0 (the \"License\");"
   ]
  },
  {
   "cell_type": "code",
   "execution_count": 0,
   "metadata": {
    "colab": {},
    "colab_type": "code",
    "id": "9XRGdjHNOE9D"
   },
   "outputs": [],
   "source": [
    "#@title ##### Licensed under the Apache License, Version 2.0 (the \"License\"); { display-mode: \"form\" }\n",
    "# you may not use this file except in compliance with the License.\n",
    "# You may obtain a copy of the License at\n",
    "#\n",
    "# https://www.apache.org/licenses/LICENSE-2.0\n",
    "#\n",
    "# Unless required by applicable law or agreed to in writing, software\n",
    "# distributed under the License is distributed on an \"AS IS\" BASIS,\n",
    "# WITHOUT WARRANTIES OR CONDITIONS OF ANY KIND, either express or implied.\n",
    "# See the License for the specific language governing permissions and\n",
    "# limitations under the License."
   ]
  },
  {
   "cell_type": "markdown",
   "metadata": {
    "colab_type": "text",
    "id": "KJihamFwOLUT"
   },
   "source": [
    "# Variational Autoencoder\n",
    "\n",
    "<table class=\"tfo-notebook-buttons\" align=\"left\">\n",
    "  <td>\n",
    "    <a target=\"_blank\" href=\"https://colab.research.google.com/github/tensorflow/probability/blob/master/tensorflow_probability/python/experimental/nn/examples/vae_mnist_advi.ipynb\"><img src=\"https://www.tensorflow.org/images/colab_logo_32px.png\" />Run in Google Colab</a>\n",
    "  </td>\n",
    "  <td>\n",
    "    <a target=\"_blank\" href=\"https://github.com/tensorflow/probability/blob/master/tensorflow_probability/python/experimental/nn/examples/vae_mnist_advi.ipynb\"><img src=\"https://www.tensorflow.org/images/GitHub-Mark-32px.png\" />View source on GitHub</a>\n",
    "  </td>\n",
    "</table>"
   ]
  },
  {
   "cell_type": "markdown",
   "metadata": {
    "colab_type": "text",
    "id": "B0HrNKbJw2bA"
   },
   "source": [
    "### 1  Imports"
   ]
  },
  {
   "cell_type": "code",
   "execution_count": 0,
   "metadata": {
    "cellView": "both",
    "colab": {},
    "colab_type": "code",
    "id": "cttwhYKYGhPj"
   },
   "outputs": [],
   "source": [
    "from __future__ import absolute_import\n",
    "from __future__ import division\n",
    "from __future__ import print_function\n",
    "\n",
    "import functools\n",
    "import sys\n",
    "import time\n",
    "\n",
    "import numpy as np\n",
    "import matplotlib.pyplot as plt\n",
    "\n",
    "import tensorflow.compat.v2 as tf\n",
    "tf.enable_v2_behavior()\n",
    "\n",
    "import tensorflow_datasets as tfds\n",
    "import tensorflow_probability as tfp\n",
    "\n",
    "# Globally Enable XLA.\n",
    "# tf.config.optimizer.set_jit(True)\n",
    "\n",
    "try:\n",
    "  physical_devices = tf.config.list_physical_devices('GPU')\n",
    "  tf.config.experimental.set_memory_growth(physical_devices[0], True)\n",
    "except:\n",
    "  # Invalid device or cannot modify virtual devices once initialized.\n",
    "  pass\n",
    "\n",
    "tfb = tfp.bijectors\n",
    "tfd = tfp.distributions\n",
    "tfn = tfp.experimental.nn"
   ]
  },
  {
   "cell_type": "markdown",
   "metadata": {
    "colab_type": "text",
    "id": "nbQ3rcTowypZ"
   },
   "source": [
    "### 2  Load Dataset"
   ]
  },
  {
   "cell_type": "code",
   "execution_count": 0,
   "metadata": {
    "cellView": "both",
    "colab": {
     "height": 0
    },
    "colab_type": "code",
    "id": "rjgnFMxvG9Ab",
    "outputId": "93106eea-ff3d-4134-95b5-ea39f61cf71d"
   },
   "outputs": [
    {
     "data": {
      "image/png": "[encoded data removed]",
      "text/plain": [
       "<Figure size 1000x200 with 1 Axes>"
      ]
     },
     "metadata": {
      "tags": []
     },
     "output_type": "display_data"
    }
   ],
   "source": [
    "[train_dataset, eval_dataset], datasets_info = tfds.load(\n",
    "    name='binarized_mnist',\n",
    "    split=['train', 'test'],\n",
    "    with_info=True,\n",
    "    shuffle_files=True)\n",
    "\n",
    "def _preprocess(sample):\n",
    "  return tf.cast(sample['image'], tf.float32)\n",
    "\n",
    "train_size = datasets_info.splits['train'].num_examples\n",
    "batch_size = 32\n",
    "\n",
    "train_dataset = tfn.util.tune_dataset(\n",
    "    train_dataset,\n",
    "    batch_size=batch_size,\n",
    "    shuffle_size=int(train_size  / 7),\n",
    "    preprocess_fn=_preprocess)\n",
    "\n",
    "eval_dataset = tfn.util.tune_dataset(\n",
    "    eval_dataset,\n",
    "    repeat_count=1,\n",
    "    preprocess_fn=_preprocess)\n",
    "\n",
    "x = next(iter(eval_dataset.batch(10)))\n",
    "tfn.util.display_imgs(x);"
   ]
  },
  {
   "cell_type": "markdown",
   "metadata": {
    "colab_type": "text",
    "id": "sbaPm7ABwvde"
   },
   "source": [
    "### 3  Define Model"
   ]
  },
  {
   "cell_type": "code",
   "execution_count": 0,
   "metadata": {
    "colab": {},
    "colab_type": "code",
    "id": "iK6_hK6RyunW"
   },
   "outputs": [],
   "source": [
    "input_shape = datasets_info.features['image'].shape\n",
    "encoded_size = 16\n",
    "base_depth = 32"
   ]
  },
  {
   "cell_type": "code",
   "execution_count": 0,
   "metadata": {
    "colab": {},
    "colab_type": "code",
    "id": "N3Q78OptyyOx"
   },
   "outputs": [],
   "source": [
    "prior = tfd.Sample(tfd.Normal(loc=0, scale=1), sample_shape=encoded_size)"
   ]
  },
  {
   "cell_type": "code",
   "execution_count": 0,
   "metadata": {
    "colab": {
     "height": 273
    },
    "colab_type": "code",
    "id": "96g5flbdy6lK",
    "outputId": "3193748c-9809-414d-8d86-fbf1e0380fc0"
   },
   "outputs": [
    {
     "name": "stdout",
     "output_type": "stream",
     "text": [
      "=== encoder ==================================================\n",
      "  SIZE SHAPE                TRAIN NAME                                    \n",
      "    32 [32]                 True  bias:0                                  \n",
      "   800 [5, 5, 1, 32]        True  kernel:0                                \n",
      "    32 [32]                 True  bias:0                                  \n",
      " 25600 [5, 5, 32, 32]       True  kernel:0                                \n",
      "    64 [64]                 True  bias:0                                  \n",
      " 51200 [5, 5, 32, 64]       True  kernel:0                                \n",
      "    64 [64]                 True  bias:0                                  \n",
      "102400 [5, 5, 64, 64]       True  kernel:0                                \n",
      "    64 [64]                 True  bias:0                                  \n",
      "200704 [7, 7, 64, 64]       True  kernel:0                                \n",
      "   152 [152]                True  bias:0                                  \n",
      "  9728 [64, 152]            True  kernel:0                                \n",
      "trainable size: 390840  /  1.491 MiB  /  {float32: 390840}\n"
     ]
    }
   ],
   "source": [
    "Conv = functools.partial(\n",
    "    tfn.Convolution,\n",
    "    init_kernel_fn=tf.initializers.he_uniform())  # Better for leaky_relu.\n",
    "\n",
    "encoder = tfn.Sequential([\n",
    "    lambda x: 2. * tf.cast(x, tf.float32) - 1.,\n",
    "    Conv(1, 1 * base_depth, 5, strides=1, padding='same'),\n",
    "    tf.nn.leaky_relu,\n",
    "    Conv(1 * base_depth, 1 * base_depth, 5, strides=2, padding='same'),\n",
    "    tf.nn.leaky_relu,\n",
    "    Conv(1 * base_depth, 2 * base_depth, 5, strides=1, padding='same'),\n",
    "    tf.nn.leaky_relu,\n",
    "    Conv(2 * base_depth, 2 * base_depth, 5, strides=2, padding='same'),\n",
    "    tf.nn.leaky_relu,\n",
    "    Conv(2 * base_depth, 4 * encoded_size, 7, strides=1, padding='valid'),\n",
    "    tf.nn.leaky_relu,\n",
    "    tfn.util.flatten_rightmost(ndims=3),\n",
    "    tfn.Affine(64, encoded_size + encoded_size * (encoded_size + 1) // 2),\n",
    "    lambda x: tfd.MultivariateNormalTriL(\n",
    "        loc=x[..., :encoded_size],\n",
    "        scale_tril=tfb.FillScaleTriL()(x[..., encoded_size:]))\n",
    "], name='encoder')\n",
    "\n",
    "print(encoder.summary())"
   ]
  },
  {
   "cell_type": "code",
   "execution_count": 0,
   "metadata": {
    "colab": {
     "height": 308
    },
    "colab_type": "code",
    "id": "P6cn2Qhh0lkz",
    "outputId": "1a70d9aa-c76d-40e6-80fe-9a02e66c7ac5"
   },
   "outputs": [
    {
     "name": "stdout",
     "output_type": "stream",
     "text": [
      "=== decoder ==================================================\n",
      "  SIZE SHAPE                TRAIN NAME                                    \n",
      "    64 [64]                 True  bias:0                                  \n",
      " 50176 [7, 7, 64, 16]       True  kernel:0                                \n",
      "    64 [64]                 True  bias:0                                  \n",
      "102400 [5, 5, 64, 64]       True  kernel:0                                \n",
      "    64 [64]                 True  bias:0                                  \n",
      "102400 [5, 5, 64, 64]       True  kernel:0                                \n",
      "    32 [32]                 True  bias:0                                  \n",
      " 51200 [5, 5, 32, 64]       True  kernel:0                                \n",
      "    32 [32]                 True  bias:0                                  \n",
      " 25600 [5, 5, 32, 32]       True  kernel:0                                \n",
      "    32 [32]                 True  bias:0                                  \n",
      " 25600 [5, 5, 32, 32]       True  kernel:0                                \n",
      "     1 [1]                  True  bias:0                                  \n",
      "   800 [5, 5, 32, 1]        True  kernel:0                                \n",
      "trainable size: 358465  /  1.367 MiB  /  {float32: 358465}\n"
     ]
    }
   ],
   "source": [
    "DeConv = functools.partial(\n",
    "    tfn.ConvolutionTranspose,\n",
    "    init_kernel_fn=tf.initializers.he_uniform())  # Better for leaky_relu.\n",
    "    \n",
    "decoder = tfn.Sequential([\n",
    "    lambda x: x[..., tf.newaxis, tf.newaxis, :],\n",
    "    DeConv(encoded_size, 2 * base_depth, 7, strides=1, padding='valid'),\n",
    "    tf.nn.leaky_relu,\n",
    "    DeConv(2 * base_depth, 2 * base_depth, 5, strides=1, padding='same'),\n",
    "    tf.nn.leaky_relu,\n",
    "    DeConv(2 * base_depth, 2 * base_depth, 5, strides=2, padding='same'),\n",
    "    tf.nn.leaky_relu,\n",
    "    DeConv(2 * base_depth, base_depth, 5, strides=1, padding='same'),\n",
    "    tf.nn.leaky_relu,\n",
    "    DeConv(1 * base_depth, 1 * base_depth, 5, strides=2, padding='same'),\n",
    "    tf.nn.leaky_relu,\n",
    "    DeConv(1 * base_depth, 1 * base_depth, 5, strides=1, padding='same'),\n",
    "    tf.nn.leaky_relu,\n",
    "    Conv(1 * base_depth, 1, 5, strides=1, padding='same'),\n",
    "    tfn.util.flatten_rightmost(ndims=3),\n",
    "    tfb.Reshape(input_shape),\n",
    "    lambda x: tfd.Independent(tfd.Bernoulli(logits=x),\n",
    "                              reinterpreted_batch_ndims=len(input_shape)),\n",
    "], name='decoder')\n",
    "\n",
    "print(decoder.summary())"
   ]
  },
  {
   "cell_type": "markdown",
   "metadata": {
    "colab_type": "text",
    "id": "J9XuHd6Iw7_a"
   },
   "source": [
    "### 4  Train"
   ]
  },
  {
   "cell_type": "code",
   "execution_count": 0,
   "metadata": {
    "cellView": "code",
    "colab": {},
    "colab_type": "code",
    "id": "iUmS-7IATIcI"
   },
   "outputs": [],
   "source": [
    "train_iter = iter(train_dataset)\n",
    "eval_iter = iter(eval_dataset.batch(2000).repeat())\n",
    "\n",
    "def compute_loss(x, beta=1.):\n",
    "  q = encoder(x)\n",
    "  z = q.sample()\n",
    "  p = decoder(z)\n",
    "  kl = tf.reduce_mean(q.log_prob(z) - prior.log_prob(z), axis=-1)\n",
    "  # Note: you could use exact KL divergence, eg:\n",
    "  #   kl = tf.reduce_mean(tfd.kl_divergence(q, prior))\n",
    "  # however we generally find that using the Monte Carlo approximation has\n",
    "  # lower variance.\n",
    "  nll = -tf.reduce_mean(p.log_prob(x), axis=-1)\n",
    "  return nll + beta * kl, (nll, kl)\n",
    "\n",
    "def loss():\n",
    "  x = next(train_iter)\n",
    "  return compute_loss(x)\n",
    "\n",
    "opt = tf.optimizers.Adam(learning_rate=1e-3)\n",
    "\n",
    "_DEBUG = False\n",
    "\n",
    "fit = tfn.util.make_fit_op(\n",
    "    loss,\n",
    "    opt,\n",
    "    decoder.trainable_variables + encoder.trainable_variables,\n",
    "    grad_summary_fn=lambda gs: tf.nest.map_structure(tf.norm, gs),\n",
    "    tf_function=not(_DEBUG),\n",
    "    xla_compile=not(_DEBUG))\n",
    "\n",
    "@tfn.util.tfcompile(tf_function=not(_DEBUG), xla_best_effort=not(_DEBUG))\n",
    "def eval():\n",
    "  x = next(eval_iter)\n",
    "  return compute_loss(x)"
   ]
  },
  {
   "cell_type": "code",
   "execution_count": 0,
   "metadata": {
    "cellView": "code",
    "colab": {
     "height": 1000
    },
    "colab_type": "code",
    "id": "ba5W_N6oTNbo",
    "outputId": "39d0dca8-9897-4e61-976c-def2339e4d53"
   },
   "outputs": [
    {
     "name": "stdout",
     "output_type": "stream",
     "text": [
      "it:    1   ms/it:6596.1990   trn_loss:616.3754   tst_loss:555.1830   tst_nll:521.3077   tst_kl:33.8753   sum_norm_grad:4361.0889\n",
      "it:  101   ms/it:7.7264   trn_loss:212.0488   tst_loss:197.8180   tst_nll:193.8511   tst_kl:3.9669   sum_norm_grad:1313.3070\n",
      "it:  201   ms/it:7.7170   trn_loss:177.5913   tst_loss:171.9726   tst_nll:164.8396   tst_kl:7.1330   sum_norm_grad:608.7997\n",
      "it:  301   ms/it:7.6904   trn_loss:162.2127   tst_loss:157.7156   tst_nll:148.7812   tst_kl:8.9345   sum_norm_grad:426.5427\n",
      "it:  401   ms/it:7.7482   trn_loss:159.7486   tst_loss:148.8958   tst_nll:138.4932   tst_kl:10.4026   sum_norm_grad:472.2920\n",
      "it:  501   ms/it:7.7882   trn_loss:152.1020   tst_loss:145.6450   tst_nll:135.0408   tst_kl:10.6042   sum_norm_grad:776.1210\n",
      "it:  601   ms/it:7.6834   trn_loss:129.7168   tst_loss:140.1515   tst_nll:128.9729   tst_kl:11.1785   sum_norm_grad:562.8702\n",
      "it:  701   ms/it:7.7976   trn_loss:124.6419   tst_loss:138.9889   tst_nll:127.6702   tst_kl:11.3188   sum_norm_grad:625.0399\n",
      "it:  801   ms/it:7.7428   trn_loss:136.3295   tst_loss:137.6543   tst_nll:126.7464   tst_kl:10.9078   sum_norm_grad:770.0708\n",
      "it:  901   ms/it:7.7362   trn_loss:131.3198   tst_loss:133.6129   tst_nll:122.7246   tst_kl:10.8884   sum_norm_grad:448.5239\n",
      "it: 1001   ms/it:7.6959   trn_loss:135.5912   tst_loss:133.4449   tst_nll:121.9794   tst_kl:11.4654   sum_norm_grad:348.3948\n",
      "it: 1101   ms/it:7.6796   trn_loss:126.3291   tst_loss:130.4262   tst_nll:115.9632   tst_kl:14.4630   sum_norm_grad:589.0679\n",
      "it: 1201   ms/it:7.7111   trn_loss:140.6174   tst_loss:127.1559   tst_nll:114.0611   tst_kl:13.0948   sum_norm_grad:539.4764\n",
      "it: 1301   ms/it:7.6559   trn_loss:125.8876   tst_loss:126.4620   tst_nll:112.0226   tst_kl:14.4394   sum_norm_grad:434.3312\n",
      "it: 1401   ms/it:7.7005   trn_loss:122.0716   tst_loss:122.7906   tst_nll:109.1299   tst_kl:13.6607   sum_norm_grad:671.3450\n",
      "it: 1501   ms/it:7.6906   trn_loss:111.5704   tst_loss:121.8973   tst_nll:105.5188   tst_kl:16.3785   sum_norm_grad:465.6265\n",
      "it: 1601   ms/it:7.7069   trn_loss:114.2627   tst_loss:120.4040   tst_nll:104.4777   tst_kl:15.9263   sum_norm_grad:356.4249\n",
      "it: 1701   ms/it:7.7411   trn_loss:118.6511   tst_loss:118.1417   tst_nll:103.3364   tst_kl:14.8053   sum_norm_grad:458.9041\n",
      "it: 1801   ms/it:7.7761   trn_loss:132.5391   tst_loss:121.0276   tst_nll:104.5350   tst_kl:16.4926   sum_norm_grad:804.7495\n",
      "it: 1901   ms/it:7.7184   trn_loss:103.8833   tst_loss:120.1831   tst_nll:105.9580   tst_kl:14.2251   sum_norm_grad:545.7966\n",
      "it: 2001   ms/it:7.7417   trn_loss:123.0332   tst_loss:119.1300   tst_nll:104.8308   tst_kl:14.2992   sum_norm_grad:402.4167\n",
      "it: 2101   ms/it:7.6952   trn_loss:111.2140   tst_loss:116.8796   tst_nll:101.2422   tst_kl:15.6374   sum_norm_grad:569.2622\n",
      "it: 2201   ms/it:7.7154   trn_loss:124.6835   tst_loss:116.2023   tst_nll:100.1807   tst_kl:16.0216   sum_norm_grad:534.0111\n",
      "it: 2301   ms/it:7.7779   trn_loss:120.0332   tst_loss:116.9815   tst_nll:101.7382   tst_kl:15.2434   sum_norm_grad:494.4200\n",
      "it: 2401   ms/it:7.7109   trn_loss:114.4938   tst_loss:118.1278   tst_nll:102.9210   tst_kl:15.2067   sum_norm_grad:494.8447\n",
      "it: 2501   ms/it:7.7517   trn_loss:115.2039   tst_loss:115.2919   tst_nll:99.3172   tst_kl:15.9747   sum_norm_grad:466.5679\n",
      "it: 2601   ms/it:7.7229   trn_loss:110.3055   tst_loss:115.3979   tst_nll:99.1367   tst_kl:16.2612   sum_norm_grad:511.4829\n",
      "it: 2701   ms/it:7.7188   trn_loss:119.2171   tst_loss:115.0030   tst_nll:99.0710   tst_kl:15.9320   sum_norm_grad:433.6911\n",
      "it: 2801   ms/it:7.7067   trn_loss:109.9401   tst_loss:117.6105   tst_nll:101.7640   tst_kl:15.8465   sum_norm_grad:404.3484\n",
      "it: 2901   ms/it:7.7128   trn_loss:106.7232   tst_loss:113.9181   tst_nll:98.4860   tst_kl:15.4321   sum_norm_grad:439.8972\n",
      "it: 3001   ms/it:7.7064   trn_loss:110.5965   tst_loss:112.4137   tst_nll:97.2192   tst_kl:15.1944   sum_norm_grad:402.0563\n",
      "it: 3101   ms/it:7.7067   trn_loss:115.8253   tst_loss:114.8490   tst_nll:98.3235   tst_kl:16.5255   sum_norm_grad:474.8510\n",
      "it: 3201   ms/it:7.7092   trn_loss:119.6141   tst_loss:111.9955   tst_nll:96.5568   tst_kl:15.4387   sum_norm_grad:659.9581\n",
      "it: 3301   ms/it:7.7464   trn_loss:118.6584   tst_loss:114.1115   tst_nll:98.2035   tst_kl:15.9080   sum_norm_grad:552.0154\n",
      "it: 3401   ms/it:7.7695   trn_loss:122.1526   tst_loss:113.5989   tst_nll:97.5959   tst_kl:16.0030   sum_norm_grad:700.9051\n",
      "it: 3501   ms/it:7.7681   trn_loss:122.7497   tst_loss:112.3545   tst_nll:97.3122   tst_kl:15.0423   sum_norm_grad:559.7404\n",
      "it: 3601   ms/it:7.7845   trn_loss:113.7152   tst_loss:112.3096   tst_nll:96.7127   tst_kl:15.5969   sum_norm_grad:653.3781\n",
      "it: 3701   ms/it:7.7470   trn_loss:111.9874   tst_loss:111.4535   tst_nll:96.2207   tst_kl:15.2328   sum_norm_grad:493.3749\n",
      "it: 3801   ms/it:7.7589   trn_loss:118.4499   tst_loss:111.9770   tst_nll:95.6376   tst_kl:16.3394   sum_norm_grad:488.0012\n",
      "it: 3901   ms/it:7.7847   trn_loss:110.7145   tst_loss:113.9492   tst_nll:98.2337   tst_kl:15.7154   sum_norm_grad:689.3418\n",
      "it: 4001   ms/it:7.7766   trn_loss:105.0600   tst_loss:110.6980   tst_nll:93.4790   tst_kl:17.2190   sum_norm_grad:503.7439\n",
      "it: 4101   ms/it:7.7655   trn_loss:115.6612   tst_loss:110.7858   tst_nll:94.6768   tst_kl:16.1090   sum_norm_grad:454.6090\n",
      "it: 4201   ms/it:7.7905   trn_loss:113.5875   tst_loss:109.7230   tst_nll:93.3164   tst_kl:16.4066   sum_norm_grad:408.1529\n",
      "it: 4301   ms/it:7.7930   trn_loss:112.5374   tst_loss:111.4343   tst_nll:95.7770   tst_kl:15.6573   sum_norm_grad:513.6306\n",
      "it: 4401   ms/it:7.7744   trn_loss:108.8329   tst_loss:109.4197   tst_nll:92.3055   tst_kl:17.1142   sum_norm_grad:412.4667\n",
      "it: 4501   ms/it:7.7891   trn_loss:113.0921   tst_loss:109.8664   tst_nll:92.5467   tst_kl:17.3198   sum_norm_grad:516.5903\n",
      "it: 4601   ms/it:7.7874   trn_loss:111.3371   tst_loss:110.6024   tst_nll:94.5177   tst_kl:16.0846   sum_norm_grad:479.3193\n",
      "it: 4701   ms/it:7.7818   trn_loss:96.7270   tst_loss:107.8328   tst_nll:91.0827   tst_kl:16.7502   sum_norm_grad:562.7691\n",
      "it: 4801   ms/it:7.7769   trn_loss:113.5890   tst_loss:112.3378   tst_nll:95.7511   tst_kl:16.5867   sum_norm_grad:448.6129\n",
      "it: 4901   ms/it:7.8081   trn_loss:112.3921   tst_loss:109.6922   tst_nll:92.5249   tst_kl:17.1673   sum_norm_grad:422.1429\n",
      "it: 5001   ms/it:7.7997   trn_loss:111.8914   tst_loss:109.4131   tst_nll:91.5739   tst_kl:17.8392   sum_norm_grad:507.5127\n",
      "it: 5101   ms/it:7.7911   trn_loss:108.4600   tst_loss:108.8550   tst_nll:91.6787   tst_kl:17.1763   sum_norm_grad:486.7018\n",
      "it: 5201   ms/it:7.8109   trn_loss:101.2846   tst_loss:107.4388   tst_nll:91.0886   tst_kl:16.3501   sum_norm_grad:447.4892\n",
      "it: 5301   ms/it:7.7561   trn_loss:109.9042   tst_loss:109.6297   tst_nll:93.2674   tst_kl:16.3623   sum_norm_grad:542.4159\n",
      "it: 5401   ms/it:7.7941   trn_loss:111.7808   tst_loss:109.8333   tst_nll:92.3606   tst_kl:17.4726   sum_norm_grad:606.0557\n",
      "it: 5501   ms/it:7.8133   trn_loss:108.3492   tst_loss:107.0923   tst_nll:90.1259   tst_kl:16.9664   sum_norm_grad:408.6534\n",
      "it: 5601   ms/it:7.8920   trn_loss:108.1606   tst_loss:108.7707   tst_nll:91.5868   tst_kl:17.1839   sum_norm_grad:689.1589\n",
      "it: 5701   ms/it:7.8109   trn_loss:111.4516   tst_loss:107.5006   tst_nll:90.2301   tst_kl:17.2705   sum_norm_grad:563.2933\n",
      "it: 5801   ms/it:7.8333   trn_loss:112.0010   tst_loss:109.0858   tst_nll:92.0421   tst_kl:17.0437   sum_norm_grad:455.6342\n",
      "it: 5901   ms/it:7.8568   trn_loss:99.7668   tst_loss:108.3041   tst_nll:90.1800   tst_kl:18.1241   sum_norm_grad:384.3790\n",
      "it: 6001   ms/it:7.8651   trn_loss:109.7103   tst_loss:106.8673   tst_nll:89.7051   tst_kl:17.1622   sum_norm_grad:447.6618\n",
      "it: 6101   ms/it:7.9860   trn_loss:105.2353   tst_loss:108.6833   tst_nll:91.6233   tst_kl:17.0600   sum_norm_grad:663.1066\n",
      "it: 6201   ms/it:7.9099   trn_loss:112.0259   tst_loss:106.4786   tst_nll:89.4326   tst_kl:17.0460   sum_norm_grad:553.9758\n",
      "it: 6301   ms/it:7.8322   trn_loss:111.9713   tst_loss:108.9616   tst_nll:91.9129   tst_kl:17.0487   sum_norm_grad:532.1166\n",
      "it: 6401   ms/it:7.8552   trn_loss:110.3083   tst_loss:106.6818   tst_nll:88.9517   tst_kl:17.7301   sum_norm_grad:539.6624\n",
      "it: 6501   ms/it:7.8275   trn_loss:101.8605   tst_loss:106.2674   tst_nll:89.8706   tst_kl:16.3968   sum_norm_grad:433.0436\n",
      "it: 6601   ms/it:7.8303   trn_loss:95.1251   tst_loss:106.8247   tst_nll:90.1063   tst_kl:16.7184   sum_norm_grad:391.0975\n",
      "it: 6701   ms/it:7.8565   trn_loss:102.0886   tst_loss:105.9801   tst_nll:88.5881   tst_kl:17.3919   sum_norm_grad:458.3092\n",
      "it: 6801   ms/it:7.8751   trn_loss:106.3825   tst_loss:107.9912   tst_nll:91.7838   tst_kl:16.2074   sum_norm_grad:705.0142\n",
      "it: 6901   ms/it:7.8758   trn_loss:94.7499   tst_loss:106.0156   tst_nll:88.9796   tst_kl:17.0359   sum_norm_grad:400.8521\n",
      "it: 7001   ms/it:7.8881   trn_loss:103.7831   tst_loss:105.7361   tst_nll:88.2518   tst_kl:17.4843   sum_norm_grad:401.9174\n",
      "it: 7101   ms/it:7.8484   trn_loss:104.1827   tst_loss:106.0928   tst_nll:88.9055   tst_kl:17.1872   sum_norm_grad:418.3479\n",
      "it: 7201   ms/it:7.8796   trn_loss:103.4942   tst_loss:107.7518   tst_nll:90.9196   tst_kl:16.8322   sum_norm_grad:455.6849\n",
      "it: 7301   ms/it:7.8499   trn_loss:112.9401   tst_loss:106.8848   tst_nll:90.2676   tst_kl:16.6172   sum_norm_grad:515.2098\n",
      "it: 7401   ms/it:7.8394   trn_loss:98.6204   tst_loss:105.8211   tst_nll:87.9203   tst_kl:17.9008   sum_norm_grad:552.9527\n",
      "it: 7501   ms/it:7.8390   trn_loss:113.9843   tst_loss:105.3431   tst_nll:87.6145   tst_kl:17.7286   sum_norm_grad:583.3076\n",
      "it: 7601   ms/it:7.8688   trn_loss:97.9373   tst_loss:105.3324   tst_nll:87.8118   tst_kl:17.5206   sum_norm_grad:485.7374\n",
      "it: 7701   ms/it:7.8621   trn_loss:104.0347   tst_loss:104.4106   tst_nll:86.9844   tst_kl:17.4262   sum_norm_grad:321.9337\n",
      "it: 7801   ms/it:7.8603   trn_loss:101.1127   tst_loss:106.8394   tst_nll:89.1010   tst_kl:17.7383   sum_norm_grad:407.8685\n",
      "it: 7901   ms/it:7.8697   trn_loss:104.0678   tst_loss:105.4879   tst_nll:88.6059   tst_kl:16.8820   sum_norm_grad:303.1344\n",
      "it: 8001   ms/it:7.8926   trn_loss:104.9352   tst_loss:103.7555   tst_nll:86.1644   tst_kl:17.5911   sum_norm_grad:505.4301\n",
      "it: 8101   ms/it:7.8512   trn_loss:104.6425   tst_loss:106.1755   tst_nll:88.2161   tst_kl:17.9594   sum_norm_grad:389.2135\n",
      "it: 8201   ms/it:7.8934   trn_loss:101.1181   tst_loss:104.1884   tst_nll:85.9220   tst_kl:18.2664   sum_norm_grad:354.5141\n",
      "it: 8301   ms/it:7.8779   trn_loss:111.5890   tst_loss:107.5421   tst_nll:89.7202   tst_kl:17.8219   sum_norm_grad:633.9016\n",
      "it: 8401   ms/it:7.8631   trn_loss:109.8395   tst_loss:104.6064   tst_nll:87.1709   tst_kl:17.4355   sum_norm_grad:484.6346\n",
      "it: 8501   ms/it:7.8880   trn_loss:106.2202   tst_loss:104.2513   tst_nll:86.6446   tst_kl:17.6067   sum_norm_grad:488.8097\n",
      "it: 8601   ms/it:7.8475   trn_loss:103.8949   tst_loss:103.9685   tst_nll:86.5167   tst_kl:17.4518   sum_norm_grad:489.0712\n",
      "it: 8701   ms/it:7.9406   trn_loss:108.8534   tst_loss:105.4756   tst_nll:86.9811   tst_kl:18.4945   sum_norm_grad:532.9946\n",
      "it: 8801   ms/it:7.8941   trn_loss:111.1892   tst_loss:106.3678   tst_nll:89.3891   tst_kl:16.9788   sum_norm_grad:490.4733\n",
      "it: 8901   ms/it:7.8894   trn_loss:101.8115   tst_loss:106.1582   tst_nll:89.6775   tst_kl:16.4807   sum_norm_grad:611.0687\n",
      "it: 9001   ms/it:7.8875   trn_loss:103.8301   tst_loss:103.2648   tst_nll:85.7602   tst_kl:17.5046   sum_norm_grad:593.4984\n",
      "it: 9101   ms/it:7.9384   trn_loss:99.7846   tst_loss:104.0316   tst_nll:86.6104   tst_kl:17.4212   sum_norm_grad:437.0844\n",
      "it: 9201   ms/it:7.8442   trn_loss:109.4262   tst_loss:103.8230   tst_nll:86.4102   tst_kl:17.4128   sum_norm_grad:562.7036\n",
      "it: 9301   ms/it:7.8549   trn_loss:103.6780   tst_loss:105.8224   tst_nll:88.2183   tst_kl:17.6041   sum_norm_grad:555.0171\n",
      "it: 9401   ms/it:7.8533   trn_loss:104.8630   tst_loss:103.9060   tst_nll:87.0570   tst_kl:16.8490   sum_norm_grad:499.5134\n",
      "it: 9501   ms/it:7.8981   trn_loss:101.8919   tst_loss:103.0482   tst_nll:85.9680   tst_kl:17.0801   sum_norm_grad:531.5708\n",
      "it: 9601   ms/it:7.8526   trn_loss:97.2524   tst_loss:104.9194   tst_nll:87.8524   tst_kl:17.0670   sum_norm_grad:393.8549\n",
      "it: 9701   ms/it:7.8439   trn_loss:114.7884   tst_loss:103.3982   tst_nll:85.1510   tst_kl:18.2471   sum_norm_grad:563.8148\n",
      "it: 9801   ms/it:7.8805   trn_loss:101.3178   tst_loss:104.8166   tst_nll:86.8948   tst_kl:17.9219   sum_norm_grad:348.3499\n",
      "it: 9901   ms/it:7.9065   trn_loss:101.5361   tst_loss:103.6801   tst_nll:85.8711   tst_kl:17.8090   sum_norm_grad:406.2628\n",
      "it:10000   ms/it:7.9300   trn_loss:97.7382   tst_loss:102.7460   tst_nll:85.0932   tst_kl:17.6528   sum_norm_grad:430.5571\n"
     ]
    }
   ],
   "source": [
    "num_train_steps = 10e3  # @param { isTemplate: true}\n",
    "num_train_steps = int(num_train_steps)  # Enforce correct type when overridden.\n",
    "dur_sec = dur_num = 0\n",
    "\n",
    "for i in range(num_train_steps):\n",
    "  start = time.time()\n",
    "  trn_loss, (trn_nll, trn_kl), g = fit()\n",
    "  stop = time.time()\n",
    "  dur_sec += stop - start\n",
    "  dur_num += 1\n",
    "  if i % 100 == 0 or i == num_train_steps - 1:\n",
    "    tst_loss, (tst_nll, tst_kl) = eval()\n",
    "    f, x = zip(*[\n",
    "        ('it:{:5}', opt.iterations),\n",
    "        ('ms/it:{:6.4f}', dur_sec / max(1., dur_num) * 1000.),\n",
    "        ('trn_loss:{:6.4f}', trn_loss),\n",
    "        ('tst_loss:{:6.4f}', tst_loss),\n",
    "        ('tst_nll:{:6.4f}', tst_nll),\n",
    "        ('tst_kl:{:6.4f}', tst_kl),\n",
    "        ('sum_norm_grad:{:6.4f}', sum(g)),\n",
    "\n",
    "    ])\n",
    "    print('   '.join(f).format(*[getattr(x_, 'numpy', lambda: x_)()\n",
    "                                 for x_ in x]))\n",
    "    sys.stdout.flush()\n",
    "    dur_sec = dur_num = 0\n",
    "  # if i % 1000 == 0 or i == maxiter - 1:\n",
    "  #   encoder.save('/tmp/encoder.npz')\n",
    "  #   decoder.save('/tmp/decoder.npz')"
   ]
  },
  {
   "cell_type": "markdown",
   "metadata": {
    "colab_type": "text",
    "id": "G1ImqkK7xAv1"
   },
   "source": [
    "### 5  Evaluate"
   ]
  },
  {
   "cell_type": "code",
   "execution_count": 0,
   "metadata": {
    "colab": {},
    "colab_type": "code",
    "id": "H2y4Dj3G6UI9"
   },
   "outputs": [],
   "source": [
    "# We'll just examine ten random digits.\n",
    "x = next(iter(eval_dataset.batch(10)))\n",
    "xhat = decoder(encoder(x).sample())\n",
    "assert isinstance(xhat, tfd.Distribution)"
   ]
  },
  {
   "cell_type": "code",
   "execution_count": 0,
   "metadata": {
    "colab": {
     "height": 493
    },
    "colab_type": "code",
    "id": "u7Gdw1Ce62UF",
    "outputId": "510a637b-b730-46a0-f1f1-49d8e3da621f"
   },
   "outputs": [
    {
     "name": "stdout",
     "output_type": "stream",
     "text": [
      "Originals:\n"
     ]
    },
    {
     "data": {
      "image/png": "[encoded data removed]",
      "text/plain": [
       "<Figure size 1000x200 with 1 Axes>"
      ]
     },
     "metadata": {
      "tags": []
     },
     "output_type": "display_data"
    },
    {
     "name": "stdout",
     "output_type": "stream",
     "text": [
      "Decoded Random Samples:\n"
     ]
    },
    {
     "data": {
      "image/png": "[encoded data removed]",
      "text/plain": [
       "<Figure size 1000x200 with 1 Axes>"
      ]
     },
     "metadata": {
      "tags": []
     },
     "output_type": "display_data"
    },
    {
     "name": "stdout",
     "output_type": "stream",
     "text": [
      "Decoded Modes:\n"
     ]
    },
    {
     "data": {
      "image/png": "[encoded data removed]",
      "text/plain": [
       "<Figure size 1000x200 with 1 Axes>"
      ]
     },
     "metadata": {
      "tags": []
     },
     "output_type": "display_data"
    },
    {
     "name": "stdout",
     "output_type": "stream",
     "text": [
      "Decoded Means:\n"
     ]
    },
    {
     "data": {
      "image/png": "[encoded data removed]",
      "text/plain": [
       "<Figure size 1000x200 with 1 Axes>"
      ]
     },
     "metadata": {
      "tags": []
     },
     "output_type": "display_data"
    }
   ],
   "source": [
    "print('Originals:')\n",
    "tfn.util.display_imgs(x);\n",
    "\n",
    "print('Decoded Random Samples:')\n",
    "tfn.util.display_imgs(xhat.sample());\n",
    "\n",
    "print('Decoded Modes:')\n",
    "tfn.util.display_imgs(xhat.mode());\n",
    "\n",
    "print('Decoded Means:')\n",
    "tfn.util.display_imgs(xhat.mean());"
   ]
  }
 ],
 "metadata": {
  "colab": {
   "collapsed_sections": [
    "B0HrNKbJw2bA",
    "nbQ3rcTowypZ"
   ],
   "name": "VAE MNIST ADVI",
   "toc_visible": true
  },
  "kernelspec": {
   "display_name": "Python 3",
   "name": "python3"
  }
 },
 "nbformat": 4,
 "nbformat_minor": 0
}
